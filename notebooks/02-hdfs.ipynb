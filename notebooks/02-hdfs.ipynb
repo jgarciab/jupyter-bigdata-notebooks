{
 "cells": [
  {
   "cell_type": "markdown",
   "metadata": {},
   "source": [
    "<img style=\"float: left\"  src=\"images/hdfs.png\">\n",
    "<img style=\"float: right\" src=\"images/surfsara.png\">\n",
    "\n",
    "<hr style=\"clear: both\" />\n",
    "\n",
    "# HDFS introduction\n",
    "\n",
    "Below are number of exercises in Python and some in Shell. Press Shift-Enter to execute the code. You can use code completion by using tab.\n",
    "\n",
    "In this notebook we will start with some HDFS basics."
   ]
  },
  {
   "cell_type": "markdown",
   "metadata": {},
   "source": [
    "## HDFS at SURFsara\n",
    "\n",
    "The Hadoop cluster at SURFsara is configured as HDFS cluster. It currently consists of 198 machines each offering part of their local disk space to the distributed file system. The configured capacity is 2.26 PB. Taking default replication into account there is room for 753 TB of data. The system hosts around 28 million files and directories for various users. \n",
    "\n",
    "To accomodate many users the Hadoop cluster at SURFsara is secured by [Kerberos](https://en.wikipedia.org/wiki/Kerberos_(protocol)). In order to make use of any cluster services we will first need to authenticate. The notebook environment is preconfigured with credentials that we only need to initialize. Execute the next cell to do this. The exclamation mark in the cell instructs Jupyter to execute that line as a shell command instead of Python code. "
   ]
  },
  {
   "cell_type": "code",
   "execution_count": 62,
   "metadata": {
    "collapsed": false
   },
   "outputs": [
    {
     "name": "stdout",
     "output_type": "stream",
     "text": [
      "My user name on the cluster is: hadws29\n",
      "env: CLUSTER_USER=temp\n"
     ]
    }
   ],
   "source": [
    "! kinit.sh\n",
    "! echo \"My user name on the cluster is:\" `klist | egrep -o 'hadws[0-9]+'`\n",
    "! export CLUSTER_USER=`klist | egrep -o 'hadws[0-9]+'`\n",
    "temp = !klist | egrep -o 'hadws[0-9]+'\n",
    "% env CLUSTER_USER=temp"
   ]
  },
  {
   "cell_type": "markdown",
   "metadata": {},
   "source": [
    "If all went well you should see some output listing your configured user (note that it should match the first part of the notebook URL). This username has been assigned to the `cluster_user` variable accessible from this notebook.\n",
    "\n",
    "## Basic HDFS operations\n",
    "\n",
    "Snakebite is a python library that provides a pure python HDFS client. The client uses protobuf for communicating with the NameNode and comes in the form of a library and a command line interface. Currently, the snakebite client supports most actions that involve the Namenode and reading data from DataNodes. Note that writing data is currently not supported. Writing can be achieved by using either the HDFS Java API or hdfs shell commands. The former is beyond the scope of this tutorial the latter will be used in exercises in this notebook. \n",
    "\n",
    "First initialize a client for HDFS. For more detail concerning the snakebite API please see the [snakebite documentation](http://snakebite.readthedocs.org/en/latest/)\n"
   ]
  },
  {
   "cell_type": "code",
   "execution_count": null,
   "metadata": {
    "collapsed": false
   },
   "outputs": [],
   "source": [
    "from snakebite.client import AutoConfigClient\n",
    "client = AutoConfigClient()"
   ]
  },
  {
   "cell_type": "markdown",
   "metadata": {},
   "source": [
    "The client object exposes various methods. Let's start with a listing of directory contents using the `ls` function. The function takes as argument a path on HDFS. We will list a public data directory: `/data/public/hadws`"
   ]
  },
  {
   "cell_type": "code",
   "execution_count": null,
   "metadata": {
    "collapsed": false
   },
   "outputs": [],
   "source": [
    "import pprint\n",
    "pp = pprint.PrettyPrinter(indent=2)\n",
    "for i in client.ls([\"/data/public/hadws\"]):\n",
    "    pp.pprint(i)"
   ]
  },
  {
   "cell_type": "markdown",
   "metadata": {},
   "source": [
    "snakebite returns the result of the listing as an array of dicts. Note that many properties that are available on regular file systems, such as size, path, owner and permissions are present on HDFS as well. Something that is not very common though is the `block_replication` factor. This factor denotes how many times the file is present on the cluster  file system. List the path and the replication factor:"
   ]
  },
  {
   "cell_type": "code",
   "execution_count": null,
   "metadata": {
    "collapsed": false
   },
   "outputs": [],
   "source": [
    "import pprint\n",
    "pp = pprint.PrettyPrinter(indent=2)\n",
    "for i in client.ls([\"/data/public/hadws\"]):\n",
    "    print(i[\"path\"] + \" \" +  str(i[\"block_replication\"]))"
   ]
  },
  {
   "cell_type": "markdown",
   "metadata": {},
   "source": [
    "Let's proceed to read a file. Both snakebite and the HDFS command line support a text operation where data is read from HDFS and converted to text (note that this is not always possible for all data formats). Use the text method to print alice.txt"
   ]
  },
  {
   "cell_type": "code",
   "execution_count": null,
   "metadata": {
    "collapsed": false
   },
   "outputs": [],
   "source": [
    "text = client.text([\"/data/public/hadws/alice.txt\"])\n",
    "for i in text:\n",
    "    print i"
   ]
  },
  {
   "cell_type": "markdown",
   "metadata": {},
   "source": [
    "Using the hdfs command line program for this is very similar:"
   ]
  },
  {
   "cell_type": "code",
   "execution_count": null,
   "metadata": {
    "collapsed": false
   },
   "outputs": [],
   "source": [
    "! hdfs dfs -text /data/public/hadws/alice.txt"
   ]
  },
  {
   "cell_type": "markdown",
   "metadata": {},
   "source": [
    "The `/data/public/hadws/`directory contains the data files that will be used in subsequent notebooks. As an exercise you are required to copy them to the `/user` directory. Snakebite does not offer any copy method so we will do this using the [`hdfs dfs`](http://hadoop.apache.org/docs/current/hadoop-project-dist/hadoop-common/FileSystemShell.html#cp) shell commands. Note that the reference manual uses `hadoop fs` this is a synonym for `hdfs dfs` - please use the latter to copy all data files to the directory of your `cluster_user`. "
   ]
  },
  {
   "cell_type": "code",
   "execution_count": 61,
   "metadata": {
    "collapsed": false
   },
   "outputs": [
    {
     "name": "stdout",
     "output_type": "stream",
     "text": [
      "hadws29\n",
      "Found 205 items\n",
      "drwx------   - TUD-DS01  hdfs             0 2015-07-09 11:14 /user/TUD-DS01\n",
      "drwx------   - TUD-DS02  hdfs             0 2015-09-11 20:43 /user/TUD-DS02\n",
      "drwx------   - TUD-DS03  hdfs             0 2015-08-28 12:26 /user/TUD-DS03\n",
      "drwx------   - TUD-DS04  hdfs             0 2015-07-31 15:03 /user/TUD-DS04\n",
      "drwx------   - TUD-DS05  hdfs             0 2015-07-20 02:06 /user/TUD-DS05\n",
      "drwx------   - TUD-DS06  hdfs             0 2015-09-25 09:48 /user/TUD-DS06\n",
      "drwx------   - TUD-DS07  hdfs             0 2015-06-17 15:24 /user/TUD-DS07\n",
      "drwx------   - TUD-DS08  hdfs             0 2015-06-17 15:25 /user/TUD-DS08\n",
      "drwx------   - TUD-DS09  hdfs             0 2015-06-17 15:25 /user/TUD-DS09\n",
      "drwx------   - TUD-DS10  hdfs             0 2015-06-17 15:29 /user/TUD-DS10\n",
      "drwx------   - TUD-DS11  hdfs             0 2015-06-17 15:29 /user/TUD-DS11\n",
      "drwx------   - TUD-DS12  hdfs             0 2015-06-17 15:30 /user/TUD-DS12\n",
      "drwx------   - TUD-DS13  hdfs             0 2015-06-17 15:30 /user/TUD-DS13\n",
      "drwx------   - TUD-DS14  hdfs             0 2015-06-17 15:31 /user/TUD-DS14\n",
      "drwx------   - TUD-DS15  hdfs             0 2015-06-17 15:31 /user/TUD-DS15\n",
      "drwx------   - TUD-DS16  hdfs             0 2015-06-17 15:32 /user/TUD-DS16\n",
      "drwx------   - TUD-DS17  hdfs             0 2015-06-17 15:32 /user/TUD-DS17\n",
      "drwx------   - TUD-DS18  hdfs             0 2015-06-17 15:33 /user/TUD-DS18\n",
      "drwx------   - TUD-DS19  hdfs             0 2015-06-17 15:33 /user/TUD-DS19\n",
      "drwx------   - TUD-DS20  hdfs             0 2015-06-17 15:34 /user/TUD-DS20\n",
      "drwx------   - afokkens  hdfs             0 2015-09-01 15:41 /user/afokkens\n",
      "drwx------   - agrotov   hdfs             0 2015-03-25 10:24 /user/agrotov\n",
      "drwx------   - andrewsi  hdfs             0 2014-09-29 12:58 /user/andrewsi\n",
      "drwx------   - antskef   hdfs             0 2014-08-26 15:15 /user/antskef\n",
      "drwx------   - arjenv    hdfs             0 2015-06-20 20:13 /user/arjenv\n",
      "drwx------   - bartj     hdfs             0 2014-10-07 13:30 /user/bartj\n",
      "drwx------   - cgou      hdfs             0 2016-01-21 13:34 /user/cgou\n",
      "drwx------   - christin  hdfs             0 2015-01-25 09:29 /user/christin\n",
      "drwx------   - chuanwu   hdfs             0 2015-11-10 09:09 /user/chuanwu\n",
      "drwx------   - claudiah  hdfs             0 2015-08-03 07:59 /user/claudiah\n",
      "drwx------   - cpp1501   hdfs             0 2015-11-26 12:10 /user/cpp1501\n",
      "drwx------   - cpp1502   hdfs             0 2015-11-25 14:41 /user/cpp1502\n",
      "drwx------   - cpp1503   hdfs             0 2015-11-16 16:12 /user/cpp1503\n",
      "drwx------   - cpp1504   hdfs             0 2015-11-16 16:13 /user/cpp1504\n",
      "drwx------   - cpp1505   hdfs             0 2015-11-27 09:27 /user/cpp1505\n",
      "drwx------   - cpp1506   hdfs             0 2015-11-26 15:43 /user/cpp1506\n",
      "drwx------   - cpp1507   hdfs             0 2015-11-16 16:16 /user/cpp1507\n",
      "drwx------   - cpp1508   hdfs             0 2015-11-16 16:16 /user/cpp1508\n",
      "drwx------   - cpp1509   hdfs             0 2015-11-26 15:56 /user/cpp1509\n",
      "drwx------   - cpp1510   hdfs             0 2015-11-27 11:24 /user/cpp1510\n",
      "drwx------   - cpp1511   hdfs             0 2015-11-26 18:07 /user/cpp1511\n",
      "drwx------   - cpp1512   hdfs             0 2015-11-16 16:20 /user/cpp1512\n",
      "drwx------   - cpp1513   hdfs             0 2015-11-16 16:21 /user/cpp1513\n",
      "drwx------   - cpp1514   hdfs             0 2015-11-16 16:21 /user/cpp1514\n",
      "drwx------   - cpp1515   hdfs             0 2015-11-16 16:22 /user/cpp1515\n",
      "drwx------   - cpp1516   hdfs             0 2015-11-27 02:14 /user/cpp1516\n",
      "drwx------   - cpp1517   hdfs             0 2015-11-27 12:21 /user/cpp1517\n",
      "drwx------   - cpp1518   hdfs             0 2015-11-26 20:43 /user/cpp1518\n",
      "drwx------   - cpp1519   hdfs             0 2015-11-27 21:52 /user/cpp1519\n",
      "drwx------   - cpp1520   hdfs             0 2015-11-27 12:23 /user/cpp1520\n",
      "drwx------   - cpp1521   hdfs             0 2015-11-27 21:37 /user/cpp1521\n",
      "drwx------   - cpp1522   hdfs             0 2015-11-16 16:28 /user/cpp1522\n",
      "drwx------   - cpp1523   hdfs             0 2015-11-26 15:23 /user/cpp1523\n",
      "drwx------   - cpp1524   hdfs             0 2015-11-26 17:56 /user/cpp1524\n",
      "drwx------   - cpp1525   hdfs             0 2015-11-27 22:19 /user/cpp1525\n",
      "drwx------   - cpp1526   hdfs             0 2015-11-26 21:40 /user/cpp1526\n",
      "drwx------   - cpp1527   hdfs             0 2015-11-16 16:32 /user/cpp1527\n",
      "drwx------   - cpp1528   hdfs             0 2015-11-16 16:33 /user/cpp1528\n",
      "drwx------   - cpp1529   hdfs             0 2015-11-27 09:38 /user/cpp1529\n",
      "drwx------   - cpp1530   hdfs             0 2015-11-27 22:19 /user/cpp1530\n",
      "drwx------   - cpp1531   hdfs             0 2015-11-16 16:35 /user/cpp1531\n",
      "drwx------   - cpp1532   hdfs             0 2015-11-16 16:36 /user/cpp1532\n",
      "drwx------   - cpp1533   hdfs             0 2015-11-16 16:37 /user/cpp1533\n",
      "drwx------   - cpp1534   hdfs             0 2015-11-27 10:06 /user/cpp1534\n",
      "drwx------   - cpp1535   hdfs             0 2015-11-16 16:39 /user/cpp1535\n",
      "drwx------   - cpp1536   hdfs             0 2015-11-27 13:11 /user/cpp1536\n",
      "drwx------   - cpp1537   hdfs             0 2015-11-26 20:50 /user/cpp1537\n",
      "drwx------   - cpp1538   hdfs             0 2015-11-26 22:25 /user/cpp1538\n",
      "drwx------   - cpp1539   hdfs             0 2015-11-16 16:42 /user/cpp1539\n",
      "drwx------   - cpp1540   hdfs             0 2015-11-27 08:29 /user/cpp1540\n",
      "drwx------   - cpp1541   hdfs             0 2015-11-27 19:43 /user/cpp1541\n",
      "drwx------   - cpp1542   hdfs             0 2015-11-16 16:44 /user/cpp1542\n",
      "drwx------   - cpp1543   hdfs             0 2015-11-27 18:03 /user/cpp1543\n",
      "drwx------   - cpp1544   hdfs             0 2015-11-27 15:05 /user/cpp1544\n",
      "drwx------   - cpp1545   hdfs             0 2015-11-26 21:03 /user/cpp1545\n",
      "drwx------   - cpp1546   hdfs             0 2015-11-26 17:59 /user/cpp1546\n",
      "drwx------   - cpp1547   hdfs             0 2015-11-16 16:48 /user/cpp1547\n",
      "drwx------   - cpp1548   hdfs             0 2015-11-16 16:49 /user/cpp1548\n",
      "drwx------   - cpp1549   hdfs             0 2015-11-27 09:40 /user/cpp1549\n",
      "drwx------   - cpp1550   hdfs             0 2015-11-26 19:47 /user/cpp1550\n",
      "drwx------   - daano     hdfs             0 2015-12-17 12:43 /user/daano\n",
      "drwx------   - damirv    hdfs             0 2014-10-24 17:32 /user/damirv\n",
      "drwx------   - dgraus    hdfs             0 2014-05-23 08:53 /user/dgraus\n",
      "drwx------   - diederik  hdfs             0 2015-09-07 07:37 /user/diederik\n",
      "drwx------   - djoerd    hdfs             0 2015-03-02 15:21 /user/djoerd\n",
      "drwx------   - eduipman  hdfs             0 2015-05-11 08:17 /user/eduipman\n",
      "drwx------   - elanting  hdfs             0 2015-02-17 09:01 /user/elanting\n",
      "drwx------   - emilioe   hdfs             0 2014-10-15 11:21 /user/emilioe\n",
      "drwx------   - erikr     hdfs             0 2015-09-21 18:47 /user/erikr\n",
      "drwx------   - eriktks   hdfs             0 2015-03-02 17:35 /user/eriktks\n",
      "drwx------   - erwinw    hdfs             0 2015-09-11 12:02 /user/erwinw\n",
      "drwx------   - flamp     hdfs             0 2015-12-03 16:47 /user/flamp\n",
      "drwx------   - freek     hdfs             0 2015-09-09 21:49 /user/freek\n",
      "drwx------   - fvandijk  hdfs             0 2015-11-27 12:35 /user/fvandijk\n",
      "drwx------   - gebreg    hdfs             0 2015-10-02 13:11 /user/gebreg\n",
      "drwx------   - giuse1    hdfs             0 2015-07-15 15:36 /user/giuse1\n",
      "drwx------   - giuseppe  hdfs             0 2016-01-21 16:08 /user/giuseppe\n",
      "drwx------   - gmab      hdfs             0 2016-01-18 13:56 /user/gmab\n",
      "drwx------   - hadws1    hdfs             0 2016-01-26 13:58 /user/hadws1\n",
      "drwx------   - hadws10   hdfs             0 2016-01-26 14:00 /user/hadws10\n",
      "drwx------   - hadws11   hdfs             0 2014-07-07 14:11 /user/hadws11\n",
      "drwx------   - hadws12   hdfs             0 2016-01-26 14:00 /user/hadws12\n",
      "drwx------   - hadws13   hdfs             0 2014-07-07 14:11 /user/hadws13\n",
      "drwx------   - hadws14   hdfs             0 2014-07-07 14:12 /user/hadws14\n",
      "drwx------   - hadws15   hdfs             0 2014-07-07 14:12 /user/hadws15\n",
      "drwx------   - hadws16   hdfs             0 2016-01-26 14:00 /user/hadws16\n",
      "drwx------   - hadws17   hdfs             0 2014-07-07 14:13 /user/hadws17\n",
      "drwx------   - hadws18   hdfs             0 2014-07-07 14:13 /user/hadws18\n",
      "drwx------   - hadws19   hdfs             0 2014-07-07 14:14 /user/hadws19\n",
      "drwx------   - hadws2    hdfs             0 2016-01-26 13:59 /user/hadws2\n",
      "drwx------   - hadws20   hdfs             0 2016-01-26 14:00 /user/hadws20\n",
      "drwx------   - hadws21   hdfs             0 2016-01-25 12:13 /user/hadws21\n",
      "drwx------   - hadws22   hdfs             0 2016-01-25 12:14 /user/hadws22\n",
      "drwx------   - hadws23   hdfs             0 2016-01-25 12:15 /user/hadws23\n",
      "drwx------   - hadws24   hdfs             0 2016-01-25 12:16 /user/hadws24\n",
      "drwx------   - hadws25   hdfs             0 2016-01-25 12:17 /user/hadws25\n",
      "drwx------   - hadws26   hdfs             0 2016-01-25 12:18 /user/hadws26\n",
      "drwx------   - hadws27   hdfs             0 2016-01-25 12:18 /user/hadws27\n",
      "drwx------   - hadws28   hdfs             0 2016-01-25 12:19 /user/hadws28\n",
      "drwx------   - hadws29   hdfs             0 2016-01-25 12:20 /user/hadws29\n",
      "drwx------   - hadws3    hdfs             0 2016-01-26 13:59 /user/hadws3\n",
      "drwx------   - hadws30   hdfs             0 2016-01-26 14:00 /user/hadws30\n",
      "drwx------   - hadws31   hdfs             0 2016-01-26 13:57 /user/hadws31\n",
      "drwx------   - hadws4    hdfs             0 2016-01-26 13:59 /user/hadws4\n",
      "drwx------   - hadws42   hdfs             0 2014-04-07 10:24 /user/hadws42\n",
      "drwx------   - hadws5    hdfs             0 2016-01-26 13:59 /user/hadws5\n",
      "drwx------   - hadws6    hdfs             0 2016-01-26 13:59 /user/hadws6\n",
      "drwx------   - hadws7    hdfs             0 2016-01-26 13:59 /user/hadws7\n",
      "drwx------   - hadws8    hdfs             0 2016-01-26 14:00 /user/hadws8\n",
      "drwx------   - hadws9    hdfs             0 2016-01-26 14:00 /user/hadws9\n",
      "drwx------   - hamidrez  hdfs             0 2014-05-18 11:41 /user/hamidrez\n",
      "drwxr-xr-x   - hannesm   hdfs             0 2015-03-23 08:15 /user/hannesm\n",
      "drwxr-xr-x   - hbase     hbase            0 2015-10-07 10:01 /user/hbase\n",
      "drwx------   - hdfs      hdfs             0 2015-07-06 14:49 /user/hdfs\n",
      "drwx------   - hhscyber  hdfs             0 2015-11-01 21:14 /user/hhscyber\n",
      "drwx------   - hhuang    hdfs             0 2015-10-17 20:07 /user/hhuang\n",
      "drwx------   - hhuurde1  hdfs             0 2015-03-02 15:26 /user/hhuurde1\n",
      "drwxr-xr-x   - hive      hdfs             0 2015-04-29 08:42 /user/hive\n",
      "drwx------   - hooster   hdfs             0 2015-06-17 13:57 /user/hooster\n",
      "drwx------   - hoydahl   hdfs             0 2015-10-30 06:29 /user/hoydahl\n",
      "drwx------   - ishivver  hdfs             0 2014-10-29 09:23 /user/ishivver\n",
      "drwx------   - jamiguet  hdfs             0 2015-04-09 09:54 /user/jamiguet\n",
      "drwx------   - jeroenn   hdfs             0 2015-04-09 07:11 /user/jeroenn\n",
      "drwx------   - jeroens   jeroens          0 2016-01-25 17:46 /user/jeroens\n",
      "drwxr-xr-x   - jeroenv   hdfs             0 2016-01-26 18:32 /user/jeroenv\n",
      "drwx------   - jeroenw   hdfs             0 2015-02-17 09:00 /user/jeroenw\n",
      "drwx------   - jmanuela  hdfs             0 2015-01-22 16:04 /user/jmanuela\n",
      "drwx------   - joostz    hdfs             0 2015-10-13 13:43 /user/joostz\n",
      "drwx------   - jorisb    hdfs             0 2016-01-07 14:41 /user/jorisb\n",
      "drwx------   - jstroet   hdfs             0 2014-05-13 10:06 /user/jstroet\n",
      "drwx------   - kanoulas  hdfs             0 2016-01-26 09:17 /user/kanoulas\n",
      "drwx------   - koehorst  hdfs             0 2014-11-19 16:28 /user/koehorst\n",
      "drwx------   - laura     hdfs             0 2015-12-22 16:13 /user/laura\n",
      "drwx------   - lixinba   hdfs             0 2015-08-05 20:12 /user/lixinba\n",
      "drwx------   - lrietvld  hdfs             0 2015-03-23 15:04 /user/lrietvld\n",
      "drwx------   - marcop    hdfs             0 2014-10-28 12:56 /user/marcop\n",
      "drwx------   - martella  hdfs             0 2014-11-17 13:59 /user/martella\n",
      "drwx------   - martijnk  hdfs             0 2015-07-14 14:50 /user/martijnk\n",
      "drwx------   - mathijsk  hdfs             0 2016-01-21 11:22 /user/mathijsk\n",
      "drwx------   - mesman    hdfs             0 2015-04-09 07:10 /user/mesman\n",
      "drwx------   - mgaida    hdfs             0 2015-05-11 08:15 /user/mgaida\n",
      "drwx------   - mgjansen  hdfs             0 2015-03-02 15:27 /user/mgjansen\n",
      "drwx------   - mholtkam  hdfs             0 2015-05-11 08:13 /user/mholtkam\n",
      "drwx------   - mihaid    hdfs             0 2015-09-17 18:52 /user/mihaid\n",
      "drwx------   - mitrab    hdfs             0 2015-05-21 05:51 /user/mitrab\n",
      "drwx------   - niekb     hdfs             0 2016-01-20 10:58 /user/niekb\n",
      "drwx------   - nikosv    hdfs             0 2015-10-13 13:45 /user/nikosv\n",
      "drwx------   - norouzza  hdfs             0 2015-04-12 13:35 /user/norouzza\n",
      "drwx------   - notten    hdfs             0 2015-05-11 08:16 /user/notten\n",
      "drwx------   - onno      hdfs             0 2014-07-02 08:30 /user/onno\n",
      "drwx------   - oostdijk  hdfs             0 2015-11-17 16:11 /user/oostdijk\n",
      "drwx------   - panagi    hdfs             0 2015-11-27 15:43 /user/panagi\n",
      "drwx------   - paulh     hdfs             0 2014-09-03 07:32 /user/paulh\n",
      "drwx------   - pboncz    hdfs             0 2015-03-06 12:59 /user/pboncz\n",
      "drwx------   - pbos      hdfs             0 2015-04-02 12:28 /user/pbos\n",
      "drwxr-xr-x   - phuijgen  hdfs             0 2015-10-13 11:25 /user/phuijgen\n",
      "drwx------   - piekv     hdfs             0 2014-08-26 15:15 /user/piekv\n",
      "drwx------   - pietdaas  hdfs             0 2014-10-15 09:30 /user/pietdaas\n",
      "drwx------   - pjurgens  hdfs             0 2015-05-11 08:16 /user/pjurgens\n",
      "drwx------   - pneerincx hdfs             0 2015-09-04 07:17 /user/pneerincx\n",
      "drwx------   - richardo  hdfs             0 2015-06-22 08:16 /user/richardo\n",
      "drwx------   - ridhor    hdfs             0 2015-11-20 12:28 /user/ridhor\n",
      "drwx------   - rogierd   hdfs             0 2015-08-01 09:12 /user/rogierd\n",
      "drwx------   - sandertv  hdfs             0 2014-09-29 13:14 /user/sandertv\n",
      "drwx------   - savdhoek  hdfs             0 2015-10-08 09:02 /user/savdhoek\n",
      "drwxr--r--   - sinzi     hdfs             0 2014-12-29 12:28 /user/sinzi\n",
      "drwx------   - stefanob  hdfs             0 2015-06-19 07:43 /user/stefanob\n",
      "drwx------   - stegehui  hdfs             0 2014-10-23 22:39 /user/stegehui\n",
      "drwx------   - swarris   hdfs             0 2014-12-11 09:18 /user/swarris\n",
      "drwx------   - tessadv   hdfs             0 2015-04-09 07:13 /user/tessadv\n",
      "drwx------   - thierryj  hdfs             0 2015-08-28 13:25 /user/thierryj\n",
      "drwx------   - timmink   hdfs             0 2015-05-11 08:15 /user/timmink\n",
      "drwx------   - tjongsma  hdfs             0 2015-05-11 08:13 /user/tjongsma\n",
      "drwx------   - tpaksoy   hdfs             0 2015-02-17 10:36 /user/tpaksoy\n",
      "drwx------   - tsamar    hdfs             0 2016-01-27 08:31 /user/tsamar\n",
      "drwx------   - tschuite  hdfs             0 2015-05-11 08:14 /user/tschuite\n",
      "drwx------   - vaishali  hdfs             0 2014-12-01 14:34 /user/vaishali\n",
      "drwx------   - vanswol   hdfs             0 2015-11-18 12:57 /user/vanswol\n",
      "drwx------   - vbeltman  hdfs             0 2015-06-01 12:40 /user/vbeltman\n",
      "drwx------   - verhoes   hdfs             0 2015-07-31 12:15 /user/verhoes\n",
      "drwxr-xr-x   - verstoep  hdfs             0 2015-08-28 14:28 /user/verstoep\n",
      "drwx------   - yzhao     hdfs             0 2015-11-19 13:03 /user/yzhao\n",
      "drwx------   - zhaochun  hdfs             0 2014-10-02 13:06 /user/zhaochun\n",
      "drwx------   - zheminz   hdfs             0 2014-09-24 12:12 /user/zheminz\n",
      "drwx------   - zmarrou   hdfs             0 2015-11-13 08:58 /user/zmarrou\n"
     ]
    }
   ],
   "source": [
    "print cluster_user\n",
    "! hdfs dfs -ls /user/\"$CLUSTER_USER\""
   ]
  },
  {
   "cell_type": "markdown",
   "metadata": {},
   "source": [
    "<hr style=\"clear: both\" />"
   ]
  },
  {
   "cell_type": "code",
   "execution_count": null,
   "metadata": {
    "collapsed": true
   },
   "outputs": [],
   "source": [
    "import json\n",
    "for i in client.ls([\"/data/public/hadws\"]):\n",
    "    print(i, indent=2))"
   ]
  },
  {
   "cell_type": "code",
   "execution_count": null,
   "metadata": {
    "collapsed": false
   },
   "outputs": [],
   "source": [
    "client.put(\"/etc/passwd\", \"foobar\")"
   ]
  },
  {
   "cell_type": "code",
   "execution_count": null,
   "metadata": {
    "collapsed": false
   },
   "outputs": [],
   "source": [
    "!hdfs fsck -files -blocks -locations -racks"
   ]
  },
  {
   "cell_type": "code",
   "execution_count": null,
   "metadata": {
    "collapsed": true
   },
   "outputs": [],
   "source": [
    "Copy alice naar /user/hadws"
   ]
  }
 ],
 "metadata": {
  "kernelspec": {
   "display_name": "Python 2",
   "language": "python",
   "name": "python2"
  },
  "language_info": {
   "codemirror_mode": {
    "name": "ipython",
    "version": 2
   },
   "file_extension": ".py",
   "mimetype": "text/x-python",
   "name": "python",
   "nbconvert_exporter": "python",
   "pygments_lexer": "ipython2",
   "version": "2.7.11"
  }
 },
 "nbformat": 4,
 "nbformat_minor": 0
}
