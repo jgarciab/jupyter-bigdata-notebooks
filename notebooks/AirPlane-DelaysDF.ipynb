{
 "cells": [
  {
   "cell_type": "code",
   "execution_count": 1,
   "metadata": {
    "collapsed": true
   },
   "outputs": [],
   "source": [
    "from pyspark.sql import SparkSession\n",
    "\n",
    "spark = SparkSession \\\n",
    "    .builder \\\n",
    "    .appName(\"Airplane delays\") \\\n",
    "    .getOrCreate()"
   ]
  },
  {
   "cell_type": "code",
   "execution_count": null,
   "metadata": {
    "collapsed": true
   },
   "outputs": [],
   "source": [
    "import numpy as np\n",
    "import matplotlib.pyplot as plt\n",
    "import matplotlib.cbook as cbook\n",
    "\n",
    "plt.xkcd()  # Yes..."
   ]
  },
  {
   "cell_type": "code",
   "execution_count": 8,
   "metadata": {
    "collapsed": false
   },
   "outputs": [],
   "source": [
    "# You dont need this. In some columns there is 'NA' a value. So we start with all strings and later\n",
    "# cast to Longs - cause thats what RandomForestClassifier needs.\n",
    "\n",
    "from pyspark.sql.types import IntegerType, LongType, StringType, StructField, StructType\n",
    "\n",
    "fields = [StructField(\"Year\", IntegerType(), True),\n",
    "          StructField(\"Month\", StringType(), False),           \n",
    "          StructField(\"DayofMonth\", IntegerType(), False),            \n",
    "          StructField(\"DayofWeek\", IntegerType(), False),            \n",
    "          StructField(\"DepTime\", LongType(), False),            \n",
    "          StructField(\"CRSDeptime\", LongType(), True),\n",
    "          StructField(\"Arrtime\", LongType(), True),\n",
    "          StructField(\"CRSArrTime\", StringType(), True),\n",
    "          StructField(\"UniqueCarrier\", StringType(), True),\n",
    "          StructField(\"FlightNum\", StringType(), True),    \n",
    "          StructField(\"TailNum\", StringType(), True),\n",
    "          StructField(\"ActualElapsedTime\", LongType(), True),\n",
    "          StructField(\"CRSElapsedTime\", LongType(), True),\n",
    "          StructField(\"AirTime\", LongType(), True),\n",
    "          StructField(\"ArrDelay\", StringType(), True),\n",
    "          StructField(\"DepDelay\", StringType(), True),\n",
    "          StructField(\"Origin\", StringType(), True),\n",
    "          StructField(\"Dest\", StringType(), True),\n",
    "          StructField(\"Distance\", LongType(), True),\n",
    "          StructField(\"TaxiIn\", LongType(), True),\n",
    "          StructField(\"TaxiOut\", LongType(), True),\n",
    "          StructField(\"Cancelled\", IntegerType(), True),\n",
    "          StructField(\"CancellationCode\", StringType(), True),\n",
    "          StructField(\"Diverted\", LongType(), True),\n",
    "          StructField(\"CarrierDelay\", StringType(), True),\n",
    "          StructField(\"WeatherDelay\", StringType(), True),\n",
    "          StructField(\"NASDelay\", StringType(), True),\n",
    "          StructField(\"SecurityDelay\", StringType(), True),\n",
    "          StructField(\"LateAirCraftDelay\", StringType(), True)]\n",
    "\n",
    "\n",
    "          \n",
    "          "
   ]
  },
  {
   "cell_type": "code",
   "execution_count": null,
   "metadata": {
    "collapsed": true
   },
   "outputs": [],
   "source": [
    "#You can download the datafile by removing the comments in the next two lines\n",
    "#import urllib\n",
    "#f = urllib.urlretrieve(\"http://beehub.nl/surfsara-hadoop/public/2008.csv.gz\", \"data/2008.csv.gz\")"
   ]
  },
  {
   "cell_type": "code",
   "execution_count": 9,
   "metadata": {
    "collapsed": false
   },
   "outputs": [
    {
     "name": "stdout",
     "output_type": "stream",
     "text": [
      "root\n",
      " |-- Year: string (nullable = true)\n",
      " |-- Month: string (nullable = true)\n",
      " |-- DayofMonth: string (nullable = true)\n",
      " |-- DayOfWeek: string (nullable = true)\n",
      " |-- DepTime: string (nullable = true)\n",
      " |-- CRSDepTime: string (nullable = true)\n",
      " |-- ArrTime: string (nullable = true)\n",
      " |-- CRSArrTime: string (nullable = true)\n",
      " |-- UniqueCarrier: string (nullable = true)\n",
      " |-- FlightNum: string (nullable = true)\n",
      " |-- TailNum: string (nullable = true)\n",
      " |-- ActualElapsedTime: string (nullable = true)\n",
      " |-- CRSElapsedTime: string (nullable = true)\n",
      " |-- AirTime: string (nullable = true)\n",
      " |-- ArrDelay: string (nullable = true)\n",
      " |-- DepDelay: string (nullable = true)\n",
      " |-- Origin: string (nullable = true)\n",
      " |-- Dest: string (nullable = true)\n",
      " |-- Distance: string (nullable = true)\n",
      " |-- TaxiIn: string (nullable = true)\n",
      " |-- TaxiOut: string (nullable = true)\n",
      " |-- Cancelled: string (nullable = true)\n",
      " |-- CancellationCode: string (nullable = true)\n",
      " |-- Diverted: string (nullable = true)\n",
      " |-- CarrierDelay: string (nullable = true)\n",
      " |-- WeatherDelay: string (nullable = true)\n",
      " |-- NASDelay: string (nullable = true)\n",
      " |-- SecurityDelay: string (nullable = true)\n",
      " |-- LateAircraftDelay: string (nullable = true)\n",
      "\n"
     ]
    }
   ],
   "source": [
    "#dfRaw = spark.read.option(\"header\", \"true\").csv(\"data/2008.csv.gz\", StructType(fields))\n",
    "dfRawdata = spark.read.option(\"header\", \"true\").csv(\"data/2008.csv.gz\")\n",
    "\n",
    "dfRawdata.printSchema()"
   ]
  },
  {
   "cell_type": "code",
   "execution_count": 15,
   "metadata": {
    "collapsed": false
   },
   "outputs": [],
   "source": [
    "dfRaw = dfRawdata.sample(False, 0.5, 12345)"
   ]
  },
  {
   "cell_type": "code",
   "execution_count": 57,
   "metadata": {
    "collapsed": false
   },
   "outputs": [
    {
     "name": "stdout",
     "output_type": "stream",
     "text": [
      "root\n",
      " |-- Month: long (nullable = true)\n",
      " |-- DayofMonth: long (nullable = true)\n",
      " |-- DayofWeek: long (nullable = true)\n",
      " |-- DepDelay: long (nullable = true)\n",
      " |-- Origin: string (nullable = true)\n",
      " |-- ArrDelay: long (nullable = true)\n",
      " |-- CRSDepTime: long (nullable = true)\n",
      " |-- Distance: long (nullable = true)\n",
      " |-- Dest: string (nullable = true)\n",
      " |-- UniqueCarrier: string (nullable = true)\n",
      "\n"
     ]
    }
   ],
   "source": [
    "dff = dfRaw.filter(dfRaw['DepDelay']!='NA').filter(dfRaw['Month']!='NA').filter(dfRaw['ArrDelay']!='NA') \\\n",
    "           .filter(dfRaw['UniqueCarrier']!='NA').filter(dfRaw['DayofMonth']!='NA').filter(dfRaw['DayofWeek']!='NA') \\\n",
    "            .filter(dfRaw['CRSDeptime']!= 'NA').filter(dfRaw['Origin']!='NA').filter(dfRaw['Dest']!='NA') \\\n",
    "           .filter(dfRaw['Distance']!='NA')\n",
    "\n",
    "df = dff.select(dff['Month'].cast(LongType()), dff['DayofMonth'].cast(LongType()), \n",
    "                     dff['DayofWeek'].cast(LongType()), dff['DepDelay'].cast(LongType()),\n",
    "                     dff['Origin'],dff['ArrDelay'].cast(LongType()),dff['CRSDepTime'].cast(LongType()),\n",
    "                     dff['Distance'].cast(LongType()), dff['Dest'],dff['UniqueCarrier'])\n",
    "df.printSchema()\n"
   ]
  },
  {
   "cell_type": "code",
   "execution_count": 59,
   "metadata": {
    "collapsed": false
   },
   "outputs": [
    {
     "data": {
      "text/html": [
       "<table><thead><tr><th>Month</th><th>DayofMonth</th><th>DayofWeek</th><th>DepDelay</th><th>Origin</th><th>ArrDelay</th><th>CRSDepTime</th><th>Distance</th><th>Dest</th><th>UniqueCarrier</th></tr></thead><tbody><tr><td>1</td><td>3</td><td>4</td><td>8</td><td>IAD</td><td>-14</td><td>1955</td><td>810</td><td>TPA</td><td>WN</td></tr></tbody></table>"
      ],
      "text/plain": [
       "<IPython.core.display.HTML object>"
      ]
     },
     "metadata": {},
     "output_type": "display_data"
    }
   ],
   "source": [
    "printSample = df.head()\n",
    "from IPython.display import display, HTML\n",
    "\n",
    "th = [\"<th>\" + d + \"</th>\" for d in df.columns]\n",
    "td = [\"<td>\" + str(d) + \"</td>\" for d in printSample]\n",
    "\n",
    "display(HTML(\"<table><thead><tr>\" + \"\".join(th) + \"</tr></thead><tbody><tr>\" + \"\".join(td) + \"</tr></tbody></table>\"))"
   ]
  },
  {
   "cell_type": "code",
   "execution_count": 60,
   "metadata": {
    "collapsed": false
   },
   "outputs": [
    {
     "name": "stdout",
     "output_type": "stream",
     "text": [
      "+-------+------------------+\n",
      "|summary|          ArrDelay|\n",
      "+-------+------------------+\n",
      "|  count|           3427918|\n",
      "|   mean| 8.190097896157376|\n",
      "| stddev|38.590046832859045|\n",
      "|    min|              -129|\n",
      "|    max|              2461|\n",
      "+-------+------------------+\n",
      "\n"
     ]
    }
   ],
   "source": [
    "from pyspark.sql.types import IntegerType, LongType\n",
    "#dff = df.filter(df[\"ArrDelay\"]!= 'NA')\n",
    "df.select(df['ArrDelay']).describe(\"ArrDelay\").show()\n",
    "#  shorter and equivalent\n",
    "#dff[[\"ArrDelay\"]].describe(\"ArrDelay\").show()"
   ]
  },
  {
   "cell_type": "code",
   "execution_count": 61,
   "metadata": {
    "collapsed": false
   },
   "outputs": [],
   "source": [
    "import matplotlib.pyplot as plt\n",
    "%matplotlib inline\n",
    "grouped = df[['DepDelay', 'Month']].groupby('Month').mean()\n",
    "grouped_sorted = grouped.sort(grouped['Month'].cast(IntegerType())).drop('avg(Month)')\n",
    "#grouped.show()\n",
    "#grouped.printSchema()\n",
    "pdf = grouped_sorted.toPandas()\n"
   ]
  },
  {
   "cell_type": "code",
   "execution_count": 62,
   "metadata": {
    "collapsed": false
   },
   "outputs": [
    {
     "data": {
      "text/html": [
       "<div>\n",
       "<table border=\"1\" class=\"dataframe\">\n",
       "  <thead>\n",
       "    <tr style=\"text-align: right;\">\n",
       "      <th></th>\n",
       "      <th>Month</th>\n",
       "      <th>avg(DepDelay)</th>\n",
       "    </tr>\n",
       "  </thead>\n",
       "  <tbody>\n",
       "    <tr>\n",
       "      <th>0</th>\n",
       "      <td>1</td>\n",
       "      <td>11.447720</td>\n",
       "    </tr>\n",
       "    <tr>\n",
       "      <th>1</th>\n",
       "      <td>2</td>\n",
       "      <td>13.583625</td>\n",
       "    </tr>\n",
       "    <tr>\n",
       "      <th>2</th>\n",
       "      <td>3</td>\n",
       "      <td>12.484457</td>\n",
       "    </tr>\n",
       "    <tr>\n",
       "      <th>3</th>\n",
       "      <td>4</td>\n",
       "      <td>8.223957</td>\n",
       "    </tr>\n",
       "    <tr>\n",
       "      <th>4</th>\n",
       "      <td>5</td>\n",
       "      <td>7.625891</td>\n",
       "    </tr>\n",
       "    <tr>\n",
       "      <th>5</th>\n",
       "      <td>6</td>\n",
       "      <td>13.605372</td>\n",
       "    </tr>\n",
       "    <tr>\n",
       "      <th>6</th>\n",
       "      <td>7</td>\n",
       "      <td>11.836564</td>\n",
       "    </tr>\n",
       "    <tr>\n",
       "      <th>7</th>\n",
       "      <td>8</td>\n",
       "      <td>9.588666</td>\n",
       "    </tr>\n",
       "    <tr>\n",
       "      <th>8</th>\n",
       "      <td>9</td>\n",
       "      <td>3.946456</td>\n",
       "    </tr>\n",
       "    <tr>\n",
       "      <th>9</th>\n",
       "      <td>10</td>\n",
       "      <td>3.836038</td>\n",
       "    </tr>\n",
       "    <tr>\n",
       "      <th>10</th>\n",
       "      <td>11</td>\n",
       "      <td>5.411327</td>\n",
       "    </tr>\n",
       "    <tr>\n",
       "      <th>11</th>\n",
       "      <td>12</td>\n",
       "      <td>17.154126</td>\n",
       "    </tr>\n",
       "  </tbody>\n",
       "</table>\n",
       "</div>"
      ],
      "text/plain": [
       "    Month  avg(DepDelay)\n",
       "0       1      11.447720\n",
       "1       2      13.583625\n",
       "2       3      12.484457\n",
       "3       4       8.223957\n",
       "4       5       7.625891\n",
       "5       6      13.605372\n",
       "6       7      11.836564\n",
       "7       8       9.588666\n",
       "8       9       3.946456\n",
       "9      10       3.836038\n",
       "10     11       5.411327\n",
       "11     12      17.154126"
      ]
     },
     "execution_count": 62,
     "metadata": {},
     "output_type": "execute_result"
    }
   ],
   "source": [
    "pdf"
   ]
  },
  {
   "cell_type": "code",
   "execution_count": 63,
   "metadata": {
    "collapsed": false
   },
   "outputs": [
    {
     "data": {
      "text/plain": [
       "<matplotlib.axes._subplots.AxesSubplot at 0x7fb855b40cd0>"
      ]
     },
     "execution_count": 63,
     "metadata": {},
     "output_type": "execute_result"
    },
    {
     "data": {
      "image/png": "[encoded data removed]",
      "text/plain": [
       "<matplotlib.figure.Figure at 0x7fb855b51710>"
      ]
     },
     "metadata": {},
     "output_type": "display_data"
    }
   ],
   "source": [
    "pdf.plot(kind='bar', x='Month')"
   ]
  },
  {
   "cell_type": "code",
   "execution_count": 64,
   "metadata": {
    "collapsed": false
   },
   "outputs": [
    {
     "data": {
      "text/html": [
       "<div>\n",
       "<table border=\"1\" class=\"dataframe\">\n",
       "  <thead>\n",
       "    <tr style=\"text-align: right;\">\n",
       "      <th></th>\n",
       "      <th>UniqueCarrier</th>\n",
       "      <th>avg(DepDelay)</th>\n",
       "    </tr>\n",
       "  </thead>\n",
       "  <tbody>\n",
       "    <tr>\n",
       "      <th>0</th>\n",
       "      <td>UA</td>\n",
       "      <td>14.043470</td>\n",
       "    </tr>\n",
       "    <tr>\n",
       "      <th>1</th>\n",
       "      <td>AA</td>\n",
       "      <td>13.331330</td>\n",
       "    </tr>\n",
       "    <tr>\n",
       "      <th>2</th>\n",
       "      <td>CO</td>\n",
       "      <td>13.208750</td>\n",
       "    </tr>\n",
       "    <tr>\n",
       "      <th>3</th>\n",
       "      <td>B6</td>\n",
       "      <td>12.715275</td>\n",
       "    </tr>\n",
       "    <tr>\n",
       "      <th>4</th>\n",
       "      <td>YV</td>\n",
       "      <td>12.106340</td>\n",
       "    </tr>\n",
       "    <tr>\n",
       "      <th>5</th>\n",
       "      <td>EV</td>\n",
       "      <td>11.893666</td>\n",
       "    </tr>\n",
       "    <tr>\n",
       "      <th>6</th>\n",
       "      <td>OH</td>\n",
       "      <td>11.542797</td>\n",
       "    </tr>\n",
       "    <tr>\n",
       "      <th>7</th>\n",
       "      <td>XE</td>\n",
       "      <td>11.289695</td>\n",
       "    </tr>\n",
       "    <tr>\n",
       "      <th>8</th>\n",
       "      <td>MQ</td>\n",
       "      <td>10.544798</td>\n",
       "    </tr>\n",
       "    <tr>\n",
       "      <th>9</th>\n",
       "      <td>WN</td>\n",
       "      <td>10.343904</td>\n",
       "    </tr>\n",
       "  </tbody>\n",
       "</table>\n",
       "</div>"
      ],
      "text/plain": [
       "  UniqueCarrier  avg(DepDelay)\n",
       "0            UA      14.043470\n",
       "1            AA      13.331330\n",
       "2            CO      13.208750\n",
       "3            B6      12.715275\n",
       "4            YV      12.106340\n",
       "5            EV      11.893666\n",
       "6            OH      11.542797\n",
       "7            XE      11.289695\n",
       "8            MQ      10.544798\n",
       "9            WN      10.343904"
      ]
     },
     "execution_count": 64,
     "metadata": {},
     "output_type": "execute_result"
    }
   ],
   "source": [
    "grouped1 = df.select(df['DepDelay'], df['UniqueCarrier']).groupby('UniqueCarrier').mean()\n",
    "carrier = grouped1.sort('avg(DepDelay)', ascending=False)\n",
    "#carrier.show()\n",
    "\n",
    "cpd = carrier.toPandas()\n",
    "cpd[:10]"
   ]
  },
  {
   "cell_type": "code",
   "execution_count": 65,
   "metadata": {
    "collapsed": false
   },
   "outputs": [
    {
     "data": {
      "text/plain": [
       "<matplotlib.axes._subplots.AxesSubplot at 0x7fb8559f4c10>"
      ]
     },
     "execution_count": 65,
     "metadata": {},
     "output_type": "execute_result"
    },
    {
     "data": {
      "image/png": "[encoded data removed]",
      "text/plain": [
       "<matplotlib.figure.Figure at 0x7fb855d9b850>"
      ]
     },
     "metadata": {},
     "output_type": "display_data"
    }
   ],
   "source": [
    "cpd.plot(kind='bar', x=cpd['UniqueCarrier'])"
   ]
  },
  {
   "cell_type": "code",
   "execution_count": 43,
   "metadata": {
    "collapsed": false
   },
   "outputs": [
    {
     "name": "stdout",
     "output_type": "stream",
     "text": [
      "+-------+-------------------+\n",
      "|summary|           DepDelay|\n",
      "+-------+-------------------+\n",
      "|  count|               3838|\n",
      "|   mean|-1.1784783741532048|\n",
      "| stddev| 15.389587088403365|\n",
      "|    min|                -61|\n",
      "|    max|                336|\n",
      "+-------+-------------------+\n",
      "\n"
     ]
    }
   ],
   "source": [
    "aqs = df.filter(df['UniqueCarrier'] == 'AQ')\n",
    "\n",
    "aqs[[\"DepDelay\"]].describe(\"DepDelay\").show()"
   ]
  },
  {
   "cell_type": "markdown",
   "metadata": {},
   "source": [
    "month: winter months should have more delays than summer months\n",
    "day of month: this is likely not a very predictive variable, but let's keep it in anyway\n",
    "day of week: weekend vs. weekday\n",
    "hour of the day: later hours tend to have more delays\n",
    "Carrier: we might expect some carriers to be more prone to delays than others\n",
    "Destination airport: we expect some airports to be more prone to delays than others\n",
    "Distance: interesting to see if this variable is a good predictor of delay\n"
   ]
  },
  {
   "cell_type": "code",
   "execution_count": 66,
   "metadata": {
    "collapsed": false
   },
   "outputs": [
    {
     "name": "stdout",
     "output_type": "stream",
     "text": [
      "+-----+----------+---------+--------+--------+----------+--------+----+-------------+\n",
      "|Month|DayofMonth|DayofWeek|DepDelay|ArrDelay|CRSDepTime|Distance|Dest|UniqueCarrier|\n",
      "+-----+----------+---------+--------+--------+----------+--------+----+-------------+\n",
      "|    1|        25|        5|      31|      36|      1742|     316| CLE|           XE|\n",
      "|    1|         4|        5|       8|       7|       650|     719| EWR|           XE|\n",
      "|    1|        10|        4|      -5|      12|      1205|     925| IAH|           XE|\n",
      "|    1|        24|        4|      -6|      -7|       845|     719| EWR|           XE|\n",
      "|    1|        16|        3|       0|     -30|      1600|     719| EWR|           XE|\n",
      "|    1|         9|        3|       5|      -6|      1500|     925| IAH|           XE|\n",
      "|    1|         2|        3|      -4|      -6|       850|     719| EWR|           XE|\n",
      "|    1|        25|        5|      50|      38|      1240|     719| EWR|           XE|\n",
      "|    1|        20|        7|     -10|     -30|      1742|     316| CLE|           XE|\n",
      "|    1|        20|        7|      99|      80|      1240|     719| EWR|           XE|\n",
      "|    1|        18|        5|       4|      -5|       845|     719| EWR|           XE|\n",
      "|    1|        31|        4|     276|     242|      1600|     719| EWR|           XE|\n",
      "|    1|         8|        2|     117|     104|      1742|     316| CLE|           XE|\n",
      "|    1|        20|        7|      -8|     -18|      1500|     925| IAH|           XE|\n",
      "|    1|        20|        7|      -4|      -6|       845|     719| EWR|           XE|\n",
      "|    1|        13|        7|      -3|     -14|      1500|     925| IAH|           XE|\n",
      "|    1|         8|        2|      28|      34|       845|     719| EWR|           XE|\n",
      "|    1|         6|        7|      -3|     -13|       850|     719| EWR|           XE|\n",
      "|    1|        16|        3|      -6|     -13|       825|     316| CLE|           XE|\n",
      "|    1|        10|        4|       1|     -33|      1240|     719| EWR|           XE|\n",
      "+-----+----------+---------+--------+--------+----------+--------+----+-------------+\n",
      "only showing top 20 rows\n",
      "\n"
     ]
    }
   ],
   "source": [
    "orddf = df.filter(df['Origin']=='ORD').drop(df['Origin'])\n",
    "orddf.show()"
   ]
  },
  {
   "cell_type": "code",
   "execution_count": 67,
   "metadata": {
    "collapsed": false
   },
   "outputs": [
    {
     "name": "stdout",
     "output_type": "stream",
     "text": [
      "+-----+----------+---------+--------+--------+----------+--------+----+-------------+-----+\n",
      "|Month|DayofMonth|DayofWeek|DepDelay|ArrDelay|CRSDepTime|Distance|Dest|UniqueCarrier|label|\n",
      "+-----+----------+---------+--------+--------+----------+--------+----+-------------+-----+\n",
      "|    1|        25|        5|      31|      36|      1742|     316| CLE|           XE|  1.0|\n",
      "|    1|         4|        5|       8|       7|       650|     719| EWR|           XE|  1.0|\n",
      "|    1|        10|        4|      -5|      12|      1205|     925| IAH|           XE|  0.0|\n",
      "|    1|        24|        4|      -6|      -7|       845|     719| EWR|           XE|  0.0|\n",
      "|    1|        16|        3|       0|     -30|      1600|     719| EWR|           XE|  0.0|\n",
      "|    1|         9|        3|       5|      -6|      1500|     925| IAH|           XE|  0.0|\n",
      "|    1|         2|        3|      -4|      -6|       850|     719| EWR|           XE|  0.0|\n",
      "|    1|        25|        5|      50|      38|      1240|     719| EWR|           XE|  1.0|\n",
      "|    1|        20|        7|     -10|     -30|      1742|     316| CLE|           XE|  0.0|\n",
      "|    1|        20|        7|      99|      80|      1240|     719| EWR|           XE|  1.0|\n",
      "|    1|        18|        5|       4|      -5|       845|     719| EWR|           XE|  0.0|\n",
      "|    1|        31|        4|     276|     242|      1600|     719| EWR|           XE|  1.0|\n",
      "|    1|         8|        2|     117|     104|      1742|     316| CLE|           XE|  1.0|\n",
      "|    1|        20|        7|      -8|     -18|      1500|     925| IAH|           XE|  0.0|\n",
      "|    1|        20|        7|      -4|      -6|       845|     719| EWR|           XE|  0.0|\n",
      "|    1|        13|        7|      -3|     -14|      1500|     925| IAH|           XE|  0.0|\n",
      "|    1|         8|        2|      28|      34|       845|     719| EWR|           XE|  1.0|\n",
      "|    1|         6|        7|      -3|     -13|       850|     719| EWR|           XE|  0.0|\n",
      "|    1|        16|        3|      -6|     -13|       825|     316| CLE|           XE|  0.0|\n",
      "|    1|        10|        4|       1|     -33|      1240|     719| EWR|           XE|  0.0|\n",
      "+-----+----------+---------+--------+--------+----------+--------+----+-------------+-----+\n",
      "only showing top 20 rows\n",
      "\n"
     ]
    }
   ],
   "source": [
    "from pyspark.sql import functions as F\n",
    "\n",
    "OrdDelayeddf = orddf.withColumn('label', F.when(orddf['DepDelay'] > 5, 1.0).otherwise(0.0))\n",
    "OrdDelayeddf.show()"
   ]
  },
  {
   "cell_type": "code",
   "execution_count": 68,
   "metadata": {
    "collapsed": false
   },
   "outputs": [
    {
     "name": "stdout",
     "output_type": "stream",
     "text": [
      "+-----+----------+---------+--------+--------+----------+--------+----+-------------+-----+-------+\n",
      "|Month|DayofMonth|DayofWeek|DepDelay|ArrDelay|CRSDepTime|Distance|Dest|UniqueCarrier|label|Carrier|\n",
      "+-----+----------+---------+--------+--------+----------+--------+----+-------------+-----+-------+\n",
      "|    1|        25|        5|      31|      36|      1742|     316| CLE|           XE|  1.0|   11.0|\n",
      "|    1|         4|        5|       8|       7|       650|     719| EWR|           XE|  1.0|   11.0|\n",
      "|    1|        10|        4|      -5|      12|      1205|     925| IAH|           XE|  0.0|   11.0|\n",
      "|    1|        24|        4|      -6|      -7|       845|     719| EWR|           XE|  0.0|   11.0|\n",
      "|    1|        16|        3|       0|     -30|      1600|     719| EWR|           XE|  0.0|   11.0|\n",
      "|    1|         9|        3|       5|      -6|      1500|     925| IAH|           XE|  0.0|   11.0|\n",
      "|    1|         2|        3|      -4|      -6|       850|     719| EWR|           XE|  0.0|   11.0|\n",
      "|    1|        25|        5|      50|      38|      1240|     719| EWR|           XE|  1.0|   11.0|\n",
      "|    1|        20|        7|     -10|     -30|      1742|     316| CLE|           XE|  0.0|   11.0|\n",
      "|    1|        20|        7|      99|      80|      1240|     719| EWR|           XE|  1.0|   11.0|\n",
      "|    1|        18|        5|       4|      -5|       845|     719| EWR|           XE|  0.0|   11.0|\n",
      "|    1|        31|        4|     276|     242|      1600|     719| EWR|           XE|  1.0|   11.0|\n",
      "|    1|         8|        2|     117|     104|      1742|     316| CLE|           XE|  1.0|   11.0|\n",
      "|    1|        20|        7|      -8|     -18|      1500|     925| IAH|           XE|  0.0|   11.0|\n",
      "|    1|        20|        7|      -4|      -6|       845|     719| EWR|           XE|  0.0|   11.0|\n",
      "|    1|        13|        7|      -3|     -14|      1500|     925| IAH|           XE|  0.0|   11.0|\n",
      "|    1|         8|        2|      28|      34|       845|     719| EWR|           XE|  1.0|   11.0|\n",
      "|    1|         6|        7|      -3|     -13|       850|     719| EWR|           XE|  0.0|   11.0|\n",
      "|    1|        16|        3|      -6|     -13|       825|     316| CLE|           XE|  0.0|   11.0|\n",
      "|    1|        10|        4|       1|     -33|      1240|     719| EWR|           XE|  0.0|   11.0|\n",
      "+-----+----------+---------+--------+--------+----------+--------+----+-------------+-----+-------+\n",
      "only showing top 20 rows\n",
      "\n"
     ]
    }
   ],
   "source": [
    "from pyspark.ml.feature import VectorAssembler\n",
    "from pyspark.ml.feature import StringIndexer\n",
    "\n",
    "# define the feature columns to put in the feature vector\n",
    "#featureCols = ['Month', 'DayofMonth', 'DayofWeek', 'DepDelay', 'CRSDepTime', 'Distance', 'UniqueCarrier','Dest' ]\n",
    "featureCols = ['Month', 'DayofMonth', 'DayofWeek', 'Distance', 'CRSDepTime', 'Carrier']\n",
    "stringIndexer = StringIndexer(inputCol='UniqueCarrier', outputCol='Carrier')\n",
    "si_model = stringIndexer.fit(OrdDelayeddf)\n",
    "train_model_df = si_model.transform(OrdDelayeddf)\n",
    "train_model_df.show()\n",
    "\n"
   ]
  },
  {
   "cell_type": "code",
   "execution_count": 69,
   "metadata": {
    "collapsed": true
   },
   "outputs": [],
   "source": [
    "#set the input and output column names\n",
    "assembler = VectorAssembler(inputCols=featureCols, outputCol =\"features\")\n",
    "\n",
    "# return a dataframe with all of the  feature columns in  a vector column\n",
    "features_df = assembler.transform(train_model_df)"
   ]
  },
  {
   "cell_type": "code",
   "execution_count": 70,
   "metadata": {
    "collapsed": false
   },
   "outputs": [
    {
     "data": {
      "text/plain": [
       "133631"
      ]
     },
     "execution_count": 70,
     "metadata": {},
     "output_type": "execute_result"
    }
   ],
   "source": [
    "train_data, test_data = ord_data_df.randomSplit([0.8, 0.2], 12345)\n",
    "train_data.count()"
   ]
  },
  {
   "cell_type": "code",
   "execution_count": 48,
   "metadata": {
    "collapsed": false
   },
   "outputs": [
    {
     "name": "stdout",
     "output_type": "stream",
     "text": [
      "+-----+----------+---------+--------+--------+--------+-----+-------+--------------------+\n",
      "|Month|DayofMonth|DayofWeek|DepDelay|ArrDelay|Distance|label|Carrier|            features|\n",
      "+-----+----------+---------+--------+--------+--------+-----+-------+--------------------+\n",
      "|    1|         1|        2|     -61|      22|     174|  0.0|    4.0|[1.0,1.0,2.0,174....|\n",
      "|    1|         1|        2|     -26|      51|      84|  0.0|    4.0|[1.0,1.0,2.0,84.0...|\n",
      "|    1|         1|        2|     -20|      23|     577|  0.0|    4.0|[1.0,1.0,2.0,577....|\n",
      "|    1|         1|        2|     -12|      -3|     222|  0.0|    4.0|[1.0,1.0,2.0,222....|\n",
      "|    1|         1|        2|     -11|       9|     740|  0.0|   10.0|[1.0,1.0,2.0,740....|\n",
      "|    1|         1|        2|      -9|      -4|     160|  0.0|    3.0|[1.0,1.0,2.0,160....|\n",
      "|    1|         1|        2|      -7|      16|    1009|  0.0|    3.0|[1.0,1.0,2.0,1009...|\n",
      "|    1|         1|        2|      -6|      -6|     174|  0.0|    3.0|[1.0,1.0,2.0,174....|\n",
      "|    1|         1|        2|      -6|      -3|    1013|  0.0|    3.0|[1.0,1.0,2.0,1013...|\n",
      "|    1|         1|        2|      -5|      -4|     462|  0.0|    3.0|[1.0,1.0,2.0,462....|\n",
      "|    1|         1|        2|      -5|      14|     296|  0.0|    1.0|[1.0,1.0,2.0,296....|\n",
      "|    1|         1|        2|      -4|     -16|     719|  0.0|    2.0|[1.0,1.0,2.0,719....|\n",
      "|    1|         1|        2|      -4|       7|     286|  0.0|    3.0|[1.0,1.0,2.0,286....|\n",
      "|    1|         1|        2|      -4|      16|     552|  0.0|    1.0|[1.0,1.0,2.0,552....|\n",
      "|    1|         1|        2|      -3|      -9|     258|  0.0|    2.0|[1.0,1.0,2.0,258....|\n",
      "|    1|         1|        2|      -3|      -2|     733|  0.0|    0.0|[1.0,1.0,2.0,733....|\n",
      "|    1|         1|        2|      -3|      -2|    1005|  0.0|    0.0|[1.0,1.0,2.0,1005...|\n",
      "|    1|         1|        2|      -3|      -1|     109|  0.0|    3.0|[1.0,1.0,2.0,109....|\n",
      "|    1|         1|        2|      -3|       5|    1723|  0.0|    2.0|[1.0,1.0,2.0,1723...|\n",
      "|    1|         1|        2|      -3|      33|     925|  0.0|    4.0|[1.0,1.0,2.0,925....|\n",
      "+-----+----------+---------+--------+--------+--------+-----+-------+--------------------+\n",
      "only showing top 20 rows\n",
      "\n"
     ]
    }
   ],
   "source": [
    "train_data.show()"
   ]
  },
  {
   "cell_type": "code",
   "execution_count": 33,
   "metadata": {
    "collapsed": false
   },
   "outputs": [
    {
     "data": {
      "text/plain": [
       "33549"
      ]
     },
     "execution_count": 33,
     "metadata": {},
     "output_type": "execute_result"
    }
   ],
   "source": [
    "test_data.count()"
   ]
  },
  {
   "cell_type": "code",
   "execution_count": null,
   "metadata": {
    "collapsed": false
   },
   "outputs": [],
   "source": [
    "from pyspark.ml.classification import RandomForestClassifier\n",
    "rf = RandomForestClassifier(numTrees=3, maxDepth=3, labelCol=\"label\", seed=42)\n",
    "model = rf.fit(train_data)\n",
    "model.toDebugString\n"
   ]
  },
  {
   "cell_type": "code",
   "execution_count": 72,
   "metadata": {
    "collapsed": false
   },
   "outputs": [],
   "source": [
    "predictions = model.transform(test_data)\n",
    "#predictions.show()"
   ]
  },
  {
   "cell_type": "code",
   "execution_count": 73,
   "metadata": {
    "collapsed": false
   },
   "outputs": [
    {
     "name": "stdout",
     "output_type": "stream",
     "text": [
      "0.613527664636\n"
     ]
    }
   ],
   "source": [
    "from pyspark.ml.evaluation import BinaryClassificationEvaluator\n",
    "\n",
    "evaluator = BinaryClassificationEvaluator(labelCol='label')\n",
    "accuracy = evaluator.evaluate(predictions) \n",
    "print accuracy"
   ]
  },
  {
   "cell_type": "code",
   "execution_count": null,
   "metadata": {
    "collapsed": false
   },
   "outputs": [],
   "source": []
  },
  {
   "cell_type": "code",
   "execution_count": null,
   "metadata": {
    "collapsed": true
   },
   "outputs": [],
   "source": []
  },
  {
   "cell_type": "code",
   "execution_count": null,
   "metadata": {
    "collapsed": false
   },
   "outputs": [],
   "source": [
    "%pylab inline"
   ]
  },
  {
   "cell_type": "code",
   "execution_count": null,
   "metadata": {
    "collapsed": false
   },
   "outputs": [],
   "source": [
    "import numpy as np\n",
    "import matplotlib.pyplot as plt\n",
    "import matplotlib.cbook as cbook\n",
    "\n",
    "plt.xkcd()  # Yes..."
   ]
  },
  {
   "cell_type": "code",
   "execution_count": null,
   "metadata": {
    "collapsed": false
   },
   "outputs": [],
   "source": [
    "import seaborn as sns\n",
    "\n",
    "sns.set(style=\"white\", font=\"Humor Sans\")\n",
    "sns.distplot(depList)"
   ]
  },
  {
   "cell_type": "code",
   "execution_count": null,
   "metadata": {
    "collapsed": false
   },
   "outputs": [],
   "source": []
  },
  {
   "cell_type": "code",
   "execution_count": null,
   "metadata": {
    "collapsed": false
   },
   "outputs": [],
   "source": [
    "from pyspark.ml.feature import StringIndexer\n",
    "\n",
    "mldf = spark.createDataFrame(\n",
    "    [(0, \"a\"), (1, \"b\"), (2, \"c\"), (3, \"a\"), (4, \"a\"), (5, \"c\")],\n",
    "    [\"id\", \"category\"])\n",
    "indexer = StringIndexer(inputCol=\"category\", outputCol=\"categoryIndex\")\n",
    "indexed = indexer.fit(mldf).transform(mldf)\n",
    "indexed.show()"
   ]
  },
  {
   "cell_type": "code",
   "execution_count": null,
   "metadata": {
    "collapsed": false
   },
   "outputs": [],
   "source": [
    "from pyspark.ml.feature import VectorAssembler\n",
    "mldf = spark.createDataFrame([(1, 0, 3), (2,3,2)], [\"a\", \"b\", \"c\"])\n",
    "cols = mldf.columns\n",
    "print cols\n",
    "vecAssembler = VectorAssembler(inputCols=cols, outputCol=\"features\")\n",
    "ass = vecAssembler.transform(mldf)\n",
    "ass.show()"
   ]
  },
  {
   "cell_type": "code",
   "execution_count": null,
   "metadata": {
    "collapsed": true
   },
   "outputs": [],
   "source": []
  }
 ],
 "metadata": {
  "kernelspec": {
   "display_name": "Python 2",
   "language": "python",
   "name": "python2"
  },
  "language_info": {
   "codemirror_mode": {
    "name": "ipython",
    "version": 2
   },
   "file_extension": ".py",
   "mimetype": "text/x-python",
   "name": "python",
   "nbconvert_exporter": "python",
   "pygments_lexer": "ipython2",
   "version": "2.7.12"
  }
 },
 "nbformat": 4,
 "nbformat_minor": 0
}
