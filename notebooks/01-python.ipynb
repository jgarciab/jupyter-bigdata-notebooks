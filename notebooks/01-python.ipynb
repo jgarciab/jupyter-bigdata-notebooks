{
 "cells": [
  {
   "cell_type": "markdown",
   "metadata": {},
   "source": [
    "![](images/python.png)\n",
    "<img style=\"float: right\" src=\"images/surfsara.png\">\n",
    "\n",
    "# Python introduction\n",
    "\n",
    "We present a very brief introduction to Python here before we will work with HDFS and Spark.\n",
    "\n",
    "Python is relatively easy to learn. Of course, you can do complicated things but we focus on the basics here and assume that you have seen similar constructs in other programming languages.\n",
    "\n",
    "_You can edit the cells below and execute the code by selecting the cell and press Shift-Enter. Code completion is supported by use of the Tab key._"
   ]
  },
  {
   "cell_type": "markdown",
   "metadata": {},
   "source": [
    "## Variables and dynamic typing\n",
    "\n",
    "In the cell below we assign the variable `i` to an integer. We then print the type of `i`. The function `print` expects a _string_ object and therefore we use the function `str` to cast `type(i)` which is of type _type_ to a _string_ object.\n",
    "\n",
    "You can see by executing the cell that `i` is of type _int_.\n",
    "\n",
    "Next we assign `s` to string and determine its length. Then we print the length of `s`."
   ]
  },
  {
   "cell_type": "code",
   "execution_count": null,
   "metadata": {
    "collapsed": true
   },
   "outputs": [],
   "source": [
    "# Assign a integer to s\n",
    "i = 123567\n",
    "\n",
    "# print the type of s\n",
    "print str(type(i))"
   ]
  },
  {
   "cell_type": "code",
   "execution_count": null,
   "metadata": {
    "collapsed": false
   },
   "outputs": [],
   "source": [
    "# Assign s to a string, using single quotes\n",
    "s = 'abcdABCD'\n",
    "\n",
    "# Strings have a length\n",
    "s_length = len(s)\n",
    "\n",
    "# We print the length of s\n",
    "# s_length is an int so we cast s_length to a string by using str\n",
    "\n",
    "# The + operator concatenates strings (and lists and tuples)\n",
    "\n",
    "print 'length of s is : ' +  str(s_length)"
   ]
  },
  {
   "cell_type": "markdown",
   "metadata": {},
   "source": [
    "Strings are very similar to lists (we get to them next). They can be accessed by using the index, the position within the string. Take a look at the following code."
   ]
  },
  {
   "cell_type": "code",
   "execution_count": null,
   "metadata": {
    "collapsed": false
   },
   "outputs": [],
   "source": [
    "# TODO: Replace <FILL IN> with appropriate code\n",
    "\n",
    "# The first item of s\n",
    "f = s[0]\n",
    "print f\n",
    "\n",
    "# The second item of s\n",
    "print s[1]\n",
    "\n",
    "# Slice of s from offsets 1 through 2 (3 not included)\n",
    "print s[1:3]\n",
    "\n",
    "# print last letter of s\n",
    "print s[-1]\n",
    "\n",
    "# print s, except the last letter\n",
    "print <FILL IN>"
   ]
  },
  {
   "cell_type": "markdown",
   "metadata": {},
   "source": [
    "## Lists\n",
    "\n",
    "Lists are ordered collections, which can contain elements of any type."
   ]
  },
  {
   "cell_type": "code",
   "execution_count": null,
   "metadata": {
    "collapsed": false
   },
   "outputs": [],
   "source": [
    "L = [123, 'some string', 1.666]\n",
    "print 'length of L is: ' +  str(len(L))"
   ]
  },
  {
   "cell_type": "code",
   "execution_count": null,
   "metadata": {
    "collapsed": false
   },
   "outputs": [],
   "source": [
    "# create two lists and concatenate these using the + operator\n",
    "\n",
    "L1 = ['a', 'b', 'c']\n",
    "L2 = ['D', 'E', 'F']\n",
    "L3 = L1 + L2\n",
    "print L3"
   ]
  },
  {
   "cell_type": "markdown",
   "metadata": {},
   "source": [
    "(Of course you can use + with strings as well:)"
   ]
  },
  {
   "cell_type": "code",
   "execution_count": null,
   "metadata": {
    "collapsed": false
   },
   "outputs": [],
   "source": [
    "print 'abc' + 'def'"
   ]
  },
  {
   "cell_type": "markdown",
   "metadata": {},
   "source": [
    "Lists are objects in Python. They come with a number of methods, e.g. `append` and `reverse`.\n",
    "These methods are called on the _list_ object by using the `.` (dot) notation."
   ]
  },
  {
   "cell_type": "code",
   "execution_count": null,
   "metadata": {
    "collapsed": true
   },
   "outputs": [],
   "source": [
    "print L3\n",
    "L3.reverse()\n",
    "print L3"
   ]
  },
  {
   "cell_type": "markdown",
   "metadata": {},
   "source": [
    "Similarly we can append an element to the end of a list by calling the `append` method."
   ]
  },
  {
   "cell_type": "code",
   "execution_count": null,
   "metadata": {
    "collapsed": false
   },
   "outputs": [],
   "source": [
    "print L3\n",
    "L3.append('G')\n",
    "print L3"
   ]
  },
  {
   "cell_type": "markdown",
   "metadata": {},
   "source": [
    "When a list contains integers or floats we can call the `sum` function to compute the total summation of its elements.\n",
    "\n",
    "Note that there are two type of 'functions' on lists. Methods like `append` en `reverse` which are used on objects with the dot notation and functions like `sum` and `len` that take lists as arguments."
   ]
  },
  {
   "cell_type": "code",
   "execution_count": null,
   "metadata": {
    "collapsed": false
   },
   "outputs": [],
   "source": [
    "print sum([4,5,7,77.00, 2])"
   ]
  },
  {
   "cell_type": "markdown",
   "metadata": {},
   "source": [
    "## Tuple\n",
    "\n",
    "Tuples are very much like _lists_, except that they are immutable, they cannot be changed. Tuples are often denoted by the parentheses `(` and `)`. This can sometimes be confusing to people new to Python. Depending on the context the parentheses can be omitted.\n",
    "\n",
    "Tuples behave very much like lists, as is shown below."
   ]
  },
  {
   "cell_type": "code",
   "execution_count": null,
   "metadata": {
    "collapsed": false,
    "scrolled": true
   },
   "outputs": [],
   "source": [
    "T = (1,2,3,4)\n",
    "print len(T)\n",
    "print 'The first element of T : ' + str(T[0])"
   ]
  },
  {
   "cell_type": "markdown",
   "metadata": {},
   "source": [
    "We can now build lists of tuples and select them on basis of their index."
   ]
  },
  {
   "cell_type": "code",
   "execution_count": null,
   "metadata": {
    "collapsed": false
   },
   "outputs": [],
   "source": [
    "# A list of tuples\n",
    "LT = [('a','b'), (3,4), ('Z', 'Z')]\n",
    "\n",
    "# Select the first tuple in the list\n",
    "print LT[0]"
   ]
  },
  {
   "cell_type": "code",
   "execution_count": null,
   "metadata": {
    "collapsed": false
   },
   "outputs": [],
   "source": [
    "# select the first element of the first tuple of the list\n",
    "print LT[0][0]"
   ]
  },
  {
   "cell_type": "markdown",
   "metadata": {},
   "source": [
    "## Dictionaries\n",
    "\n",
    "Dictionaries are very similar to `Maps` in Java. They are unordered collections of key-value pairs. The key is used to retrieve the related value from the dictionary.\n",
    "\n",
    "To index a dictionary by a key we use the same bracketed notion as with lists, but here the key instead of the offset is used."
   ]
  },
  {
   "cell_type": "code",
   "execution_count": null,
   "metadata": {
    "collapsed": false
   },
   "outputs": [],
   "source": [
    "my_dictionary = {'name' : 'john', 'age' : 29, 'city' : 'New York'}\n",
    "print my_dictionary['name']"
   ]
  },
  {
   "cell_type": "markdown",
   "metadata": {},
   "source": [
    "## Functions\n",
    "\n",
    "You can define functions in python, similar to other languages. We assume you are familiar with the concept of a function in programming languages.\n",
    "\n",
    "There are two basic ways to define a function. The first is by using the `def` keyword and a name for the function, followed by arguments and `:`. The keyword `return` is used to return the value.\n",
    "\n",
    "Here we see another feature of Python: it is sensitive to indentation. In the cell below you see that a tab preceding the return statement. Removing this tab will result in an indentation error. The rules for indentation are very intuitive, but you must remember to abide by them."
   ]
  },
  {
   "cell_type": "code",
   "execution_count": null,
   "metadata": {
    "collapsed": false
   },
   "outputs": [],
   "source": [
    "# We define a function called times, which takes two integers and returns their product\n",
    "\n",
    "def times(x, y):\n",
    "    return x * y\n",
    "\n",
    "p = times(3, 2)\n",
    "print str(p)"
   ]
  },
  {
   "cell_type": "markdown",
   "metadata": {},
   "source": [
    "In the example below, we define the function intersect, which identifies the common elements of two lists.\n",
    "The function contains a `for` loop, and an `if` statement, which we haven't seen before, but should not surprise you too much.\n",
    "\n",
    "Note that a function can contain multiple statements, in this case an assignment, a `for` loop and an `if` statement.\n",
    "\n",
    "Also note the indentation in the code. Each time `:` is followed by an additional tab. The indentation helps to read the scope of the statements. Again, if you change this indentation you will get an error message.\n",
    "\n",
    "Walking through this example:\n",
    "\n",
    "- After the definition a new empty list `res` is defined.\n",
    "- Next, the for loop, checks each element of the list `seq1`, which is the first argument of the function.\n",
    "- If this element is also in the list `seq2` (the second argument) it is added to the list `res`.\n",
    "- After the loop has ended, the list `res` is returned."
   ]
  },
  {
   "cell_type": "code",
   "execution_count": null,
   "metadata": {
    "collapsed": true
   },
   "outputs": [],
   "source": [
    "def intersect(seq1, seq2):\n",
    "    res = []                     # Start empty\n",
    "    for x in seq1:               # Scan seq1\n",
    "        if x in seq2:            # Common item?\n",
    "            res.append(x)        # Add to end\n",
    "    return res"
   ]
  },
  {
   "cell_type": "markdown",
   "metadata": {},
   "source": [
    "## Lambda functions\n",
    "\n",
    "There is another way of defining functions, called lambda functions. The term lambda comes from the field of lambda calculus, which is a branch of mathematics. Lambda functions play a large role in functional programming languages.\n",
    "\n",
    "Both MapReduce and Spark have taken their inspiration from functional programming and hence understanding lambda functions will help you to understand MapReduce and Spark.\n",
    "\n",
    "Lambda functions are anonymous functions, that is functions without a name. The keyword `lambda` simply denotes that a function is defined. What follows is a function statement, a single statement only, and no return statement.\n",
    "\n",
    "Finally, a lambda function can be assigned to a variable, which then is used as the name of the function. This is not possible with functions that are defined using `def`.\n",
    "\n",
    "Let's look at an example."
   ]
  },
  {
   "cell_type": "code",
   "execution_count": null,
   "metadata": {
    "collapsed": false
   },
   "outputs": [],
   "source": [
    "# This lambda function has two arguments x and y which are multiplied\n",
    "#  Note that there is no return statement and that the function is assigned to the variable l_times\n",
    "#  The : separates the arguments from the body of the function\n",
    "\n",
    "l_times = lambda x,y: x * y\n",
    "\n",
    "#Next we call the function by using the variable as a function\n",
    "\n",
    "result = l_times(2,3)\n",
    "print str(result)"
   ]
  },
  {
   "cell_type": "markdown",
   "metadata": {
    "collapsed": true
   },
   "source": [
    "## Lambda function exercise\n",
    "\n",
    "Next, define a lambda function which adds two numbers. Then execute the function on the integers 7 and 9 and print the result."
   ]
  },
  {
   "cell_type": "code",
   "execution_count": null,
   "metadata": {
    "collapsed": true
   },
   "outputs": [],
   "source": [
    "# TODO: Replace <FILL IN> with appropriate code\n",
    "\n",
    "# A lambda function to add two numbers\n",
    "\n",
    "my_add = lambda <FILL_IN>\n",
    "\n",
    "# add two numbers using the function just defined\n",
    "result = <FILL IN>\n",
    "\n",
    "print str(result)"
   ]
  },
  {
   "cell_type": "markdown",
   "metadata": {},
   "source": [
    "## MapReduce\n",
    "\n",
    "Functions are very important to both MapReduce and Spark. To see why let us look at a function called `map`, which is part of Python.\n",
    "\n",
    "`Map` is a function which takes two arguments, a function and a list. `Map` applies the function (its first argument) to every element of the list (its second argument).\n",
    "\n",
    "In the next cell we show how this works.\n",
    "We define a list, called `celsius` which contains a number of temperature measures in degrees Celsius. We are going to convert this list to degrees Fahrenheit.\n",
    "\n",
    "For this we write a function which will convert a single degree Celsius into Fahrenheit.  We then call `map` to apply this function to all elements of the list `celsius`."
   ]
  },
  {
   "cell_type": "code",
   "execution_count": null,
   "metadata": {
    "collapsed": false
   },
   "outputs": [],
   "source": [
    "# A list of temperature measures in degrees Celsius\n",
    "celsius = [39.2, 36.5, 37.3, 37.8]\n",
    "\n",
    "# A lambda function defining the conversion from a degree in Celsius to one in Fahrenheit\n",
    "convert = lambda x: (float(9)/5)*x + 32\n",
    "\n",
    "# by using map we apply the function to every element of the list celsius\n",
    "fahrenheit = map(convert, celsius)\n",
    "\n",
    "# We can do exactly the same by using the lambda expression inside the map statement directly:\n",
    "# fahrenheit = map(lambda x: (float(9)/5)*x + 32, celsius)\n",
    "\n",
    "print fahrenheit"
   ]
  },
  {
   "cell_type": "markdown",
   "metadata": {},
   "source": [
    "We do not have to use lambda functions here. We can define the convert function using <b>def</b> and use the name of the function as the first argument for map. Let's see how this works:"
   ]
  },
  {
   "cell_type": "code",
   "execution_count": null,
   "metadata": {
    "collapsed": false
   },
   "outputs": [],
   "source": [
    "# We define the same function as in the previous cell, now using def\n",
    "\n",
    "def convert_def(x):\n",
    "    fahr = (float(9)/5)*x + 32\n",
    "    return fahr\n",
    "\n",
    "# Let's use it in map on the celsius list\n",
    "\n",
    "fahrenheit = map(convert_def, celsius)\n",
    "print fahrenheit"
   ]
  },
  {
   "cell_type": "markdown",
   "metadata": {},
   "source": [
    "This is conceptually very similar to Hadoop's Map as in MapReduce. But the Python version is not executed in parallel, as in Hadoop.\n",
    "\n",
    "Next, let us look at Reduce. Python also has a function called `reduce` which takes as its first argument a function, and as a second argument a list. The function has to have two arguments.\n",
    "\n",
    "`Reduce` will then apply the function to the first two elements of the list and use this result together with the next item in the list to compute the next step. This procedure is repeated until the entire list is traversed.\n",
    "\n",
    "For example, suppose we want to add up all elements of the list [47, 11, 42, 13] then we write a function which will add up two integers, and we will call `reduce`. `Reduce` will then proceed as depicted in the picture below:\n",
    "\n",
    "![python reduce](images/reduce_diagram.png)\n",
    "\n",
    "Note that this function `reduce` resembles Hadoop's Reduce. In Hadoop you have to supply the Mappers and Reducers classes with a program, in Python it is function.\n",
    "\n",
    "Spark works similarly in this regard. You have to write functions that you have feed into other functions, which will process data for you.\n",
    "\n",
    "As a final exercise, before we move to Spark, we are going to compute the mean of the Fahrenheit list, using reduce."
   ]
  },
  {
   "cell_type": "code",
   "execution_count": null,
   "metadata": {
    "collapsed": false
   },
   "outputs": [],
   "source": [
    "# TODO: Replace <FILL IN> with appropriate code\n",
    "\n",
    "# First write a lambda function which adds up two elements\n",
    "\n",
    "sum_up = lambda <FILL IN>\n",
    "\n",
    "# Use reduce to sum up the elements in Fahrenheit\n",
    "\n",
    "total = reduce(<FILL IN>)\n",
    "\n",
    "# divide total by the length of the list Fahrenheit\n",
    "# Use the division operator /\n",
    "\n",
    "mean = <FILL IN>\n",
    "print mean"
   ]
  },
  {
   "cell_type": "code",
   "execution_count": null,
   "metadata": {
    "collapsed": false
   },
   "outputs": [],
   "source": [
    "# Run this cell to test if you have the right value for mean\n",
    "from test_helper import Test\n",
    "import numpy as np\n",
    "\n",
    "Test.assertTrue(np.allclose(mean, 99.86), 'Wrong value for mean')"
   ]
  }
 ],
 "metadata": {
  "kernelspec": {
   "display_name": "Python 2",
   "language": "python",
   "name": "python2"
  },
  "language_info": {
   "codemirror_mode": {
    "name": "ipython",
    "version": 2
   },
   "file_extension": ".py",
   "mimetype": "text/x-python",
   "name": "python",
   "nbconvert_exporter": "python",
   "pygments_lexer": "ipython2",
   "version": "2.7.11"
  }
 },
 "nbformat": 4,
 "nbformat_minor": 0
}
